{
 "cells": [
  {
   "cell_type": "code",
   "execution_count": 1,
   "id": "6005e794",
   "metadata": {},
   "outputs": [],
   "source": [
    "# import libraries\n",
    "import pandas as pd\n",
    "import numpy as np\n",
    "from sklearn.tree import DecisionTreeClassifier"
   ]
  },
  {
   "cell_type": "code",
   "execution_count": 2,
   "id": "29f1c8ab",
   "metadata": {},
   "outputs": [
    {
     "name": "stdout",
     "output_type": "stream",
     "text": [
      "   Variance  Skewness  Curtosis  Entropy  Class\n",
      "0   3.62160    8.6661   -2.8073 -0.44699      0\n",
      "1   4.54590    8.1674   -2.4586 -1.46210      0\n",
      "2   3.86600   -2.6383    1.9242  0.10645      0\n",
      "3   3.45660    9.5228   -4.0112 -3.59440      0\n",
      "4   0.32924   -4.4552    4.5718 -0.98880      0\n"
     ]
    }
   ],
   "source": [
    "# read data set\n",
    "dataset = pd.read_csv('bill_authentication.csv')\n",
    "print(dataset.head())"
   ]
  },
  {
   "cell_type": "code",
   "execution_count": 4,
   "id": "b3e4f27f",
   "metadata": {},
   "outputs": [],
   "source": [
    "# define X and y\n",
    "X = dataset.iloc[:, 0:4].values\n",
    "y = dataset.iloc[:, 4].values\n",
    "\n",
    "from sklearn.model_selection import train_test_split\n",
    "X_train, X_test, y_train, y_test = train_test_split(X, y, test_size=0.2, random_state=0)\n"
   ]
  },
  {
   "cell_type": "code",
   "execution_count": 5,
   "id": "a338a115",
   "metadata": {},
   "outputs": [],
   "source": [
    "# Feature Scaling\n",
    "#print(\"Before applying Standard Scalar :\")\n",
    "#print(X_train)\n",
    "from sklearn.preprocessing import StandardScaler\n",
    "sc = StandardScaler()"
   ]
  },
  {
   "cell_type": "code",
   "execution_count": 6,
   "id": "c748fd5c",
   "metadata": {},
   "outputs": [],
   "source": [
    "X_train = sc.fit_transform(X_train)\n",
    "X_test = sc.transform(X_test)\n",
    "#print(\"After applying Standard Scalar :\")\n",
    "#print(X_train)"
   ]
  },
  {
   "cell_type": "code",
   "execution_count": 7,
   "id": "68b69d31",
   "metadata": {},
   "outputs": [],
   "source": [
    "from sklearn.ensemble import BaggingClassifier,RandomForestClassifier\n",
    "from sklearn.ensemble import AdaBoostClassifier,GradientBoostingClassifier\n",
    "from sklearn.metrics import confusion_matrix, accuracy_score\n"
   ]
  },
  {
   "cell_type": "code",
   "execution_count": 13,
   "id": "37c08bcb",
   "metadata": {},
   "outputs": [],
   "source": [
    "rc = BaggingClassifier(DecisionTreeClassifier(),n_estimators = 5)\n",
    "#rc = AdaBoostClassifier(n_estimators=22,learning_rate=1)\n",
    "#rc = GradientBoostingClassifier(max_depth= 3,n_estimators =24,learning_rate=1.0)\n",
    "#rc = RandomForestClassifier(n_estimators=5)"
   ]
  },
  {
   "cell_type": "code",
   "execution_count": 16,
   "id": "b36751bc",
   "metadata": {},
   "outputs": [
    {
     "name": "stdout",
     "output_type": "stream",
     "text": [
      "[[157   0]\n",
      " [  0 118]]\n",
      "100.0\n"
     ]
    }
   ],
   "source": [
    "\n",
    "rc.fit(X_train, y_train)\n",
    "y_pred = rc.predict(X_test)\n",
    "print(confusion_matrix(y_test,y_pred))\n",
    "print(accuracy_score(y_test, y_pred)*100)"
   ]
  },
  {
   "cell_type": "code",
   "execution_count": 15,
   "id": "2889ed5c",
   "metadata": {},
   "outputs": [
    {
     "name": "stdout",
     "output_type": "stream",
     "text": [
      "Accuracy for 1 estimators :0.9090909090909091\n",
      "Accuracy for 2 estimators :0.92\n",
      "Accuracy for 3 estimators :0.9563636363636364\n",
      "Accuracy for 4 estimators :0.9636363636363636\n",
      "Accuracy for 5 estimators :0.9745454545454545\n",
      "Accuracy for 6 estimators :0.9745454545454545\n",
      "Accuracy for 7 estimators :0.9745454545454545\n",
      "Accuracy for 8 estimators :0.9745454545454545\n",
      "Accuracy for 9 estimators :0.9890909090909091\n",
      "Accuracy for 10 estimators :0.9854545454545455\n",
      "Accuracy for 11 estimators :0.9927272727272727\n",
      "Accuracy for 12 estimators :0.9927272727272727\n",
      "Accuracy for 13 estimators :0.9927272727272727\n",
      "Accuracy for 14 estimators :0.9927272727272727\n",
      "Accuracy for 15 estimators :0.9890909090909091\n",
      "Accuracy for 16 estimators :0.9963636363636363\n",
      "Accuracy for 17 estimators :0.9927272727272727\n",
      "Accuracy for 18 estimators :0.9963636363636363\n",
      "Accuracy for 19 estimators :0.9963636363636363\n",
      "Accuracy for 20 estimators :0.9963636363636363\n",
      "Accuracy for 21 estimators :0.9963636363636363\n",
      "Accuracy for 22 estimators :0.9927272727272727\n",
      "Accuracy for 23 estimators :0.9963636363636363\n",
      "Accuracy for 24 estimators :1.0\n",
      "Accuracy for 25 estimators :1.0\n",
      "Accuracy for 26 estimators :1.0\n",
      "Accuracy for 27 estimators :1.0\n",
      "Accuracy for 28 estimators :1.0\n",
      "Accuracy for 29 estimators :1.0\n",
      "Accuracy for 30 estimators :1.0\n",
      "Accuracy for 31 estimators :1.0\n",
      "Accuracy for 32 estimators :1.0\n",
      "Accuracy for 33 estimators :1.0\n",
      "Accuracy for 34 estimators :1.0\n",
      "Accuracy for 35 estimators :1.0\n",
      "Accuracy for 36 estimators :1.0\n",
      "Accuracy for 37 estimators :1.0\n",
      "Accuracy for 38 estimators :1.0\n",
      "Accuracy for 39 estimators :1.0\n",
      "Accuracy for 40 estimators :1.0\n",
      "Accuracy for 41 estimators :1.0\n",
      "Accuracy for 42 estimators :1.0\n",
      "Accuracy for 43 estimators :1.0\n",
      "Accuracy for 44 estimators :1.0\n",
      "Accuracy for 45 estimators :1.0\n",
      "Accuracy for 46 estimators :1.0\n",
      "Accuracy for 47 estimators :1.0\n",
      "Accuracy for 48 estimators :1.0\n",
      "Accuracy for 49 estimators :1.0\n"
     ]
    }
   ],
   "source": [
    "#Finding the number of n_estimators\n",
    "\n",
    "for n in range(1,50):\n",
    "      #rc =AdaBoostClassifier(n_estimators=n,learning_rate=1)\n",
    "      rc = GradientBoostingClassifier(max_depth=2,n_estimators =n,learning_rate=1.0)\n",
    "      rc.fit(X_train, y_train)\n",
    "      y_pred = rc.predict(X_test)\n",
    "      print(\"Accuracy for %s estimators :%s\" %(n,accuracy_score(y_test, y_pred)))\n"
   ]
  },
  {
   "cell_type": "code",
   "execution_count": 12,
   "id": "b336b2fd",
   "metadata": {},
   "outputs": [
    {
     "name": "stdout",
     "output_type": "stream",
     "text": [
      "BaggingClassifier(base_estimator=DecisionTreeClassifier(), n_estimators=5,\n",
      "                  random_state=0)  :  98.54545454545455\n",
      "AdaBoostClassifier(learning_rate=1, n_estimators=22)  :  100.0\n",
      "GradientBoostingClassifier(learning_rate=1.0, max_depth=2, n_estimators=24)  :  100.0\n",
      "RandomForestClassifier(n_estimators=5, random_state=0)  :  98.9090909090909\n"
     ]
    }
   ],
   "source": [
    "#Applying Multiple algorithms at a time\n",
    "'''\n",
    "bc = BaggingClassifier(DecisionTreeClassifier(),n_estimators = 5, random_state=0)\n",
    "abc =AdaBoostClassifier(n_estimators=22,learning_rate=1)\n",
    "gbc = GradientBoostingClassifier(max_depth=2,n_estimators =24,learning_rate=1.0)\n",
    "rfc = RandomForestClassifier(n_estimators=5, random_state=0)\n",
    "d1={}\n",
    "for rc in bc,abc,gbc,rfc:\n",
    "      rc.fit(X_train, y_train)\n",
    "      y_pred = rc.predict(X_test)\n",
    "      #print(confusion_matrix(y_test,y_pred))\n",
    "      #print(classification_report(y_test,y_pred))\n",
    "      #print(\"Accuracy for\",rc,accuracy_score(y_test, y_pred))\n",
    "      d1[rc]=accuracy_score(y_test, y_pred)*100\n",
    "      \n",
    "for k,v in d1.items():\n",
    "      print(k,\" : \",v)\n",
    "\n",
    "'''\n"
   ]
  },
  {
   "cell_type": "code",
   "execution_count": null,
   "id": "cc99716a",
   "metadata": {},
   "outputs": [],
   "source": []
  }
 ],
 "metadata": {
  "kernelspec": {
   "display_name": "Python 3 (ipykernel)",
   "language": "python",
   "name": "python3"
  },
  "language_info": {
   "codemirror_mode": {
    "name": "ipython",
    "version": 3
   },
   "file_extension": ".py",
   "mimetype": "text/x-python",
   "name": "python",
   "nbconvert_exporter": "python",
   "pygments_lexer": "ipython3",
   "version": "3.9.13"
  }
 },
 "nbformat": 4,
 "nbformat_minor": 5
}
